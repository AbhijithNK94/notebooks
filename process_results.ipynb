{
 "cells": [
  {
   "cell_type": "code",
   "execution_count": 1,
   "id": "db70a6c6",
   "metadata": {},
   "outputs": [
    {
     "name": "stdout",
     "output_type": "stream",
     "text": [
      "['20210102', 'RSI', '12', '0', '70', '30', '91.29', '16', '2', '0.07']\n"
     ]
    },
    {
     "data": {
      "text/plain": [
       "3150"
      ]
     },
     "execution_count": 1,
     "metadata": {},
     "output_type": "execute_result"
    }
   ],
   "source": [
    "import csv\n",
    "import pprint\n",
    "\n",
    "filename = 'result/BTCUSDT-2021-01-01-2021-01-08-1m.csv'\n",
    "with open(filename, newline='') as f:\n",
    "    reader = csv.reader(f)\n",
    "    results = list(reader)\n",
    "\n",
    "print(results[0])\n",
    "len(results)"
   ]
  },
  {
   "cell_type": "code",
   "execution_count": 2,
   "id": "96187487",
   "metadata": {},
   "outputs": [],
   "source": [
    "# value indexes\n",
    "DATE = 0\n",
    "SQN = 9\n",
    "UPPER = 4\n",
    "LOWER = 5\n",
    "PROFIT = 6"
   ]
  },
  {
   "cell_type": "code",
   "execution_count": 3,
   "id": "72407969",
   "metadata": {},
   "outputs": [
    {
     "data": {
      "text/plain": [
       "3142"
      ]
     },
     "execution_count": 3,
     "metadata": {},
     "output_type": "execute_result"
    }
   ],
   "source": [
    "# remove outliers and unprofitables\n",
    "trim = [result for result in results if not float(result[PROFIT]) > 7777 and not float(result[PROFIT]) < -7777]\n",
    "len(trim)"
   ]
  },
  {
   "cell_type": "code",
   "execution_count": 4,
   "id": "11d7eb3c",
   "metadata": {},
   "outputs": [
    {
     "data": {
      "text/plain": [
       "[['20210101', 'RSI', '12', '0', '70', '30', '777.78', '18', '7', '1.76'],\n",
       " ['20210101', 'RSI', '12', '0', '70', '25', '538.75', '12', '6', '1.31'],\n",
       " ['20210101', 'RSI', '12', '0', '60', '25', '365.33', '11', '8', '0.94']]"
      ]
     },
     "execution_count": 4,
     "metadata": {},
     "output_type": "execute_result"
    }
   ],
   "source": [
    "# chronological order\n",
    "r = sorted(trim, key = lambda x: x[DATE])   # sort by date\n",
    "r[:3]"
   ]
  },
  {
   "cell_type": "code",
   "execution_count": 5,
   "id": "3691680d",
   "metadata": {},
   "outputs": [
    {
     "data": {
      "text/plain": [
       "[['20210107', 'RSI', '12', '0', '70', '30', '2271.23', '19', '4', '1.8'],\n",
       " ['20210107', 'RSI', '12', '0', '70', '25', '2869.17', '14', '1', '3.99'],\n",
       " ['20210107', 'RSI', '12', '0', '60', '25', '2445.66', '14', '2', '3.82']]"
      ]
     },
     "execution_count": 5,
     "metadata": {},
     "output_type": "execute_result"
    }
   ],
   "source": [
    "[x for x in r if x[0]=='20210107'][:3]    # list for a specific date"
   ]
  },
  {
   "cell_type": "code",
   "execution_count": 6,
   "id": "4e99a72b",
   "metadata": {},
   "outputs": [
    {
     "name": "stdout",
     "output_type": "stream",
     "text": [
      "20210107 RSI 13 1.0 70 20 5410.21 11 1 2.6\n",
      "20210107 RSI 13 0.5 70 20 4941.04 10 4 2.2\n",
      "20210107 RSI 13 0.1 70 20 4779.49 9 10 2.06\n",
      "20210107 RSI 13 -1.0 70 20 4643.69 11 1 2.33\n",
      "20210107 RSI 13 1.0 70 25 4430.12 15 4 1.81\n"
     ]
    }
   ],
   "source": [
    "# top results\n",
    "r = sorted(trim, key = lambda x: float(x[PROFIT]))[::-1][:5]   # sort by profit\n",
    "[print(*x) for x in r][:3][0]"
   ]
  },
  {
   "cell_type": "code",
   "execution_count": 8,
   "id": "a6f0becf",
   "metadata": {},
   "outputs": [
    {
     "name": "stdout",
     "output_type": "stream",
     "text": [
      "             high\n",
      "20210101 RSI 18 0.5 70 30 936.45 11 6 1.39\n",
      "20210101 RSI 19 0.5 70 30 933.52 10 6 1.36\n",
      "20210101 RSI 19 0.1 70 25 902.18 6 7 2.06\n",
      "20210101     low\n",
      "20210101 RSI 23 1.0 70 25 -354.46 1 2 -0.82\n",
      "20210101 RSI 22 1.0 70 20 -294.61 0 1 0\n",
      "20210101 RSI 23 1.0 70 20 -294.61 0 1 0\n",
      "             high\n",
      "20210102 RSI 29 1.0 70 20 1892.85 1 0 0\n",
      "20210102 RSI 29 0.5 70 20 1892.85 1 0 0\n",
      "20210102 RSI 29 0.1 70 20 1892.85 1 0 0\n",
      "[['20210102', 'RSI', '18', '0.5', '70', '30', '118.79', '7', '9', '0.13']]\n",
      "[['20210102', 'RSI', '19', '0.5', '70', '30', '-216.88', '5', '6', '-0.33']]\n",
      "[['20210102', 'RSI', '19', '0.1', '70', '25', '-827.40', '1', '5', '-2.19']]\n",
      "\n",
      "20210102     low\n",
      "20210102 RSI 21 1.0 70 30 -1849.82 3 7 -2.78\n",
      "20210102 RSI 26 1.0 70 30 -1602.04 0 5 -104.42\n",
      "20210102 RSI 27 1.0 70 30 -1602.04 0 5 -104.42\n",
      "             high\n",
      "20210103 RSI 29 -1.0 70 30 2650.29 5 2 2.2\n",
      "20210103 RSI 28 -1.0 70 30 2443.16 4 3 2.08\n",
      "20210103 RSI 23 0 60 25 2013.61 5 0 4.43\n",
      "[['20210103', 'RSI', '29', '1.0', '70', '20', '0.00', '0', '0', '0']]\n",
      "[['20210103', 'RSI', '29', '0.5', '70', '20', '0.00', '0', '0', '0']]\n",
      "[['20210103', 'RSI', '29', '0.1', '70', '20', '0.00', '0', '0', '0']]\n",
      "\n",
      "20210103     low\n",
      "20210103 RSI 14 0.5 70 30 -1995.87 10 29 -1.75\n",
      "20210103 RSI 13 0.5 70 30 -1461.03 13 29 -1.29\n",
      "20210103 RSI 13 0.5 65 25 -1089.37 8 21 -1.13\n",
      "             high\n",
      "20210104 RSI 28 0.1 70 20 3365.46 1 2 1.17\n",
      "20210104 RSI 28 0.5 70 20 3152.87 1 2 1.06\n",
      "20210104 RSI 28 1.0 70 20 2844.10 1 2 0.92\n",
      "[['20210104', 'RSI', '29', '-1.0', '70', '30', '-14.63', '8', '7', '-0.01']]\n",
      "[['20210104', 'RSI', '28', '-1.0', '70', '30', '-517.59', '8', '9', '-0.43']]\n",
      "[['20210104', 'RSI', '23', '0', '60', '25', '-149.95', '4', '3', '-0.13']]\n",
      "\n",
      "20210104     low\n",
      "20210104 RSI 26 0 70 20 -2689.21 0 1 0\n",
      "20210104 RSI 28 0.5 70 25 -2424.07 0 10 -3.69\n",
      "20210104 RSI 27 0 60 25 -2404.56 1 2 -1.34\n",
      "             high\n",
      "20210105 RSI 21 1.0 70 30 2019.07 7 6 1.12\n",
      "20210105 RSI 22 -1.0 70 30 1993.23 9 5 1.23\n",
      "20210105 RSI 15 0.1 70 30 1857.31 9 44 1.36\n",
      "[['20210105', 'RSI', '28', '0.1', '70', '20', '0.00', '0', '0', '0']]\n",
      "[['20210105', 'RSI', '28', '0.5', '70', '20', '0.00', '0', '0', '0']]\n",
      "[['20210105', 'RSI', '28', '1.0', '70', '20', '0.00', '0', '0', '0']]\n",
      "\n",
      "20210105     low\n",
      "20210105 RSI 21 1.0 70 25 -1528.42 1 6 -2.37\n",
      "20210105 RSI 21 1.0 65 25 -1486.41 1 6 -2.17\n",
      "20210105 RSI 20 1.0 65 25 -1326.51 2 7 -1.39\n",
      "             high\n",
      "20210106 RSI 18 0.1 70 30 3453.43 13 32 2.02\n",
      "20210106 RSI 19 -1.0 70 30 3162.49 13 6 2.51\n",
      "20210106 RSI 17 0.1 70 30 3125.80 14 36 1.88\n",
      "[['20210106', 'RSI', '21', '1.0', '70', '30', '935.40', '8', '7', '0.6']]\n",
      "[['20210106', 'RSI', '22', '-1.0', '70', '30', '2643.78', '10', '6', '1.89']]\n",
      "[['20210106', 'RSI', '15', '0.1', '70', '30', '843.84', '13', '48', '0.66']]\n",
      "\n",
      "20210106     low\n",
      "20210106 RSI 15 1.0 70 20 -1269.06 3 5 -1.8\n",
      "20210106 RSI 28 1.0 70 25 -701.82 0 2 -123.67\n",
      "20210106 RSI 28 1.0 65 25 -701.82 0 2 -123.67\n",
      "             high\n",
      "20210107 RSI 13 1.0 70 20 5410.21 11 1 2.6\n",
      "20210107 RSI 13 0.5 70 20 4941.04 10 4 2.2\n",
      "20210107 RSI 13 0.1 70 20 4779.49 9 10 2.06\n",
      "[['20210107', 'RSI', '18', '0.1', '70', '30', '1625.52', '5', '25', '0.85']]\n",
      "[['20210107', 'RSI', '19', '-1.0', '70', '30', '2470.05', '9', '8', '1.07']]\n",
      "[['20210107', 'RSI', '17', '0.1', '70', '30', '-1338.45', '4', '26', '-1.41']]\n",
      "\n",
      "20210107     low\n",
      "20210107 RSI 15 -1.0 70 30 -7135.43 9 8 0.48\n",
      "20210107 RSI 15 -1.0 70 25 -5755.19 8 4 1.2\n",
      "20210107 RSI 15 -1.0 70 20 -5165.57 6 0 2.04\n"
     ]
    }
   ],
   "source": [
    "dates = ['20210101','20210102','20210103','20210104', '20210105', '20210106', '20210107']    # list of dates\n",
    "yesterdayHighs = None\n",
    "for date in dates:\n",
    "    date_list = [x for x in trim if x[0]==date]\n",
    "    \n",
    "    print('             high')\n",
    "    highs = sorted(date_list, key = lambda x: float(x[PROFIT]))[::-1][:3]   # sort by profit\n",
    "    [print(*x) for x in highs][0]\n",
    "    if yesterdayHighs:\n",
    "        y0 = yesterdayHighs[0]        \n",
    "        y1 = yesterdayHighs[1]        \n",
    "        y2 = yesterdayHighs[2]        \n",
    "        print([x for x in date_list if x[2]==y0[2] and x[3]==y0[3] and x[4]==y0[4] and x[5]==y0[5]])\n",
    "        print([x for x in date_list if x[2]==y1[2] and x[3]==y1[3] and x[4]==y1[4] and x[5]==y1[5]])\n",
    "        print([x for x in date_list if x[2]==y2[2] and x[3]==y2[3] and x[4]==y2[4] and x[5]==y2[5]])\n",
    "        print()\n",
    "        \n",
    "    yesterdayHighs = highs\n",
    "    print(date + '     low')\n",
    "    lows = sorted(date_list, key = lambda x: float(x[PROFIT]))[:3]   # sort by profit\n",
    "    [print(*x) for x in lows][0]\n",
    "    "
   ]
  }
 ],
 "metadata": {
  "kernelspec": {
   "display_name": "Python 3",
   "language": "python",
   "name": "python3"
  },
  "language_info": {
   "codemirror_mode": {
    "name": "ipython",
    "version": 3
   },
   "file_extension": ".py",
   "mimetype": "text/x-python",
   "name": "python",
   "nbconvert_exporter": "python",
   "pygments_lexer": "ipython3",
   "version": "3.6.9"
  }
 },
 "nbformat": 4,
 "nbformat_minor": 5
}
