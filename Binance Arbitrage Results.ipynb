{
 "cells": [
  {
   "cell_type": "code",
   "execution_count": 1,
   "id": "c926191a",
   "metadata": {},
   "outputs": [
    {
     "name": "stdout",
     "output_type": "stream",
     "text": [
      "['2021-06-08 14:46:31.203918', 'USDT->ARDR->BTC->USDT', '0.091']\n"
     ]
    },
    {
     "data": {
      "text/plain": [
       "61"
      ]
     },
     "execution_count": 1,
     "metadata": {},
     "output_type": "execute_result"
    }
   ],
   "source": [
    "import csv\n",
    "from datetime import datetime\n",
    "\n",
    "FMT = '%H:%M:%S.%f'   # time format\n",
    "\n",
    "filename = 'arbitrage1.csv'\n",
    "with open(filename, newline='') as f:\n",
    "    reader = csv.reader(f)\n",
    "    results = list(reader)\n",
    "\n",
    "print(results[0])\n",
    "len(results)"
   ]
  },
  {
   "cell_type": "code",
   "execution_count": 2,
   "id": "62dacadd",
   "metadata": {},
   "outputs": [],
   "source": [
    "norm = {}   # normalized dictionary: times and profit for each exchange\n",
    "for i, result in enumerate(results):\n",
    "    if result[1] not in norm:  # have we seen this exchange yet?\n",
    "        norm[result[1]] = [[result[0][11:22], result[2]]]\n",
    "    else:\n",
    "        norm[result[1]].append([result[0][11:22], result[2]])"
   ]
  },
  {
   "cell_type": "code",
   "execution_count": 3,
   "id": "036288f3",
   "metadata": {},
   "outputs": [
    {
     "data": {
      "text/plain": [
       "{'USDT->BNB->TROY->USDT': [[1, '14:57:06.26', '0.0714']],\n",
       " 'USDT->BTC->POND->USDT': [[1, '15:11:55.46', '0.1555'],\n",
       "  [1, '15:11:55.46', '0.1555']],\n",
       " 'USDT->POND->BTC->USDT': [[1, '15:35:53.35', '0.0831'],\n",
       "  [1, '15:35:53.35', '0.0831']],\n",
       " 'USDT->BTC->SUSD->USDT': [[5, '15:36:40.69', '0.0722'],\n",
       "  [3, '15:36:41.93', '0.159']],\n",
       " 'USDT->IRIS->BTC->USDT': [[1, '14:57:19.19', '0.1332']],\n",
       " 'USDT->WAN->BTC->USDT': [[1, '15:01:53.48', '0.0329']],\n",
       " 'USDT->COCOS->BNB->USDT': [[1, '15:01:53.48', '0.0091']],\n",
       " 'USDT->WING->BNB->USDT': [[4, '15:04:16.92', '0.0029']],\n",
       " 'USDT->BNB->AAVE->USDT': [[1, '15:11:04.73', '0.0706']],\n",
       " 'USDT->ETH->AAVE->USDT': [[1, '15:11:04.73', '0.0465']],\n",
       " 'USDT->MFT->ETH->USDT': [[1, '15:18:45.87', '0.0631']],\n",
       " 'USDT->BTC->RUNE->USDT': [[1, '15:23:58.05', '0.0054']],\n",
       " 'USDT->BNB->COCOS->USDT': [[1, '15:36:43.03', '0.016']],\n",
       " 'USDT->BNB->STMX->USDT': [[3, '15:41:15.04', '0.0217'],\n",
       "  [2, '15:41:15.74', '0.0292']],\n",
       " 'USDT->ETH->KEY->USDT': [[1, '15:46:22.55', '0.228'],\n",
       "  [2, '15:46:23.74', '0.1123']]}"
      ]
     },
     "execution_count": 3,
     "metadata": {},
     "output_type": "execute_result"
    }
   ],
   "source": [
    "results = {}\n",
    "sequences = []\n",
    "sequence = 0\n",
    "prev_time = None\n",
    "for key in norm:\n",
    "    for t in norm[key]:\n",
    "        if not prev_time:\n",
    "            prev_time = t[0]\n",
    "            continue\n",
    "\n",
    "        if (datetime.strptime(t[0], FMT) - datetime.strptime(prev_time, FMT)).total_seconds() < 1.5:\n",
    "            sequence += 1\n",
    "        else:    # broken sequence\n",
    "            if sequence:    # did we find a sequence?\n",
    "                if sequences:    # do we already have sequences of consecutive times?\n",
    "                    sequences.append([sequence, t[0], t[1]])\n",
    "                else:\n",
    "                    sequences = [[sequence, t[0], t[1]]]    # create a new sequence list\n",
    "                sequence = 1\n",
    "\n",
    "        prev_time = t[0]\n",
    "\n",
    "    if sequence:   # take care of any leftover sequence\n",
    "        sequences.append([sequence, t[0], t[1]])\n",
    "\n",
    "    if sequences:\n",
    "        results[key] = sequences\n",
    "    sequences = []\n",
    "    sequence = 0\n",
    "    \n",
    "results"
   ]
  },
  {
   "cell_type": "code",
   "execution_count": 4,
   "id": "dc72a302",
   "metadata": {},
   "outputs": [
    {
     "name": "stdout",
     "output_type": "stream",
     "text": [
      "arbitrage % 10.0\n",
      "avg profit margin % 0.03755\n"
     ]
    },
    {
     "data": {
      "text/plain": [
       "[0.0722, 0.0029]"
      ]
     },
     "execution_count": 4,
     "metadata": {},
     "output_type": "execute_result"
    }
   ],
   "source": [
    "trades = []\n",
    "long_trades = []\n",
    "for key in results:\n",
    "    for trade in results[key]:\n",
    "        if trade[0] > 3:\n",
    "            if long_trades:\n",
    "                long_trades.append(float(trade[2]))\n",
    "            else:\n",
    "                long_trades = [float(trade[2])]\n",
    "                \n",
    "        if trades:\n",
    "            trades.append(float(trade[2]))\n",
    "        else:\n",
    "            trades = [float(trade[2])]\n",
    "            \n",
    "print('arbitrage %', len(long_trades) / len(trades) *100)\n",
    "print('avg profit margin %', sum(long_trades) / len(long_trades))\n",
    "long_trades"
   ]
  }
 ],
 "metadata": {
  "kernelspec": {
   "display_name": "Python 3",
   "language": "python",
   "name": "python3"
  },
  "language_info": {
   "codemirror_mode": {
    "name": "ipython",
    "version": 3
   },
   "file_extension": ".py",
   "mimetype": "text/x-python",
   "name": "python",
   "nbconvert_exporter": "python",
   "pygments_lexer": "ipython3",
   "version": "3.6.9"
  }
 },
 "nbformat": 4,
 "nbformat_minor": 5
}
