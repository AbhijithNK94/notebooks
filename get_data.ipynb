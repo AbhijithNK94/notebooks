{
 "cells": [
  {
   "cell_type": "code",
   "execution_count": 10,
   "id": "ce78fa78",
   "metadata": {},
   "outputs": [
    {
     "name": "stdout",
     "output_type": "stream",
     "text": [
      "data2/BTCUSDT-20210101-20210102-1m.csv 1441\n"
     ]
    }
   ],
   "source": [
    "import config, csv\n",
    "from binance.client import Client\n",
    "\n",
    "client = Client(config.API_KEY, config.API_SECRET)\n",
    "start = '01'\n",
    "end = str(int(start)+1).zfill(2)\n",
    "datafile = 'data2/BTCUSDT-202101'+start+'-202101'+end+'-1m.csv'\n",
    "csvfile = open(datafile, 'w', newline='')\n",
    "candlestick_writer = csv.writer(csvfile, delimiter=',')\n",
    "\n",
    "candlesticks = client.get_historical_klines(\"BTCUSDT\", Client.KLINE_INTERVAL_1MINUTE, start+\" Jan, 2021\", end+\" Jan, 2021\")\n",
    "\n",
    "for candlestick in candlesticks:\n",
    "    candlestick[0] = candlestick[0] / 1000 # divide timestamp to ignore miliseconds\n",
    "    candlestick_writer.writerow(candlestick)\n",
    "\n",
    "csvfile.close()\n",
    "\n",
    "print(datafile, len(candlesticks))"
   ]
  }
 ],
 "metadata": {
  "kernelspec": {
   "display_name": "Python 3",
   "language": "python",
   "name": "python3"
  },
  "language_info": {
   "codemirror_mode": {
    "name": "ipython",
    "version": 3
   },
   "file_extension": ".py",
   "mimetype": "text/x-python",
   "name": "python",
   "nbconvert_exporter": "python",
   "pygments_lexer": "ipython3",
   "version": "3.6.9"
  }
 },
 "nbformat": 4,
 "nbformat_minor": 5
}
